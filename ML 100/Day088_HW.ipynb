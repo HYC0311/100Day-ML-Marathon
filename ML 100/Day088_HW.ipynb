{
 "cells": [
  {
   "cell_type": "markdown",
   "metadata": {},
   "source": [
    "## Work\n",
    "1. 請嘗試寫一個 callback 用來記錄各類別在訓練過程中，對驗證集的 True Positive 與 True Negative"
   ]
  },
  {
   "cell_type": "code",
   "execution_count": 1,
   "metadata": {},
   "outputs": [
    {
     "name": "stderr",
     "output_type": "stream",
     "text": [
      "C:\\ProgramData\\Anaconda3\\lib\\site-packages\\h5py\\__init__.py:36: FutureWarning: Conversion of the second argument of issubdtype from `float` to `np.floating` is deprecated. In future, it will be treated as `np.float64 == np.dtype(float).type`.\n",
      "  from ._conv import register_converters as _register_converters\n",
      "Using TensorFlow backend.\n"
     ]
    }
   ],
   "source": [
    "import os\n",
    "import keras\n",
    "\n",
    "# Disable GPU\n",
    "os.environ[\"CUDA_VISIBLE_DEVICES\"] = \"\""
   ]
  },
  {
   "cell_type": "code",
   "execution_count": 2,
   "metadata": {},
   "outputs": [],
   "source": [
    "train, test = keras.datasets.cifar10.load_data()"
   ]
  },
  {
   "cell_type": "code",
   "execution_count": 3,
   "metadata": {},
   "outputs": [],
   "source": [
    "## 資料前處理\n",
    "def preproc_x(x, flatten=True):\n",
    "    x = x / 255.\n",
    "    if flatten:\n",
    "        x = x.reshape((len(x), -1))\n",
    "    return x\n",
    "\n",
    "def preproc_y(y, num_classes=10):\n",
    "    if y.shape[-1] == 1:\n",
    "        y = keras.utils.to_categorical(y, num_classes)\n",
    "    return y    "
   ]
  },
  {
   "cell_type": "code",
   "execution_count": 4,
   "metadata": {},
   "outputs": [],
   "source": [
    "x_train, y_train = train\n",
    "x_test, y_test = test\n",
    "\n",
    "# Preproc the inputs\n",
    "x_train = preproc_x(x_train)\n",
    "x_test = preproc_x(x_test)\n",
    "\n",
    "# Preprc the outputs\n",
    "y_train = preproc_y(y_train)\n",
    "y_test = preproc_y(y_test)"
   ]
  },
  {
   "cell_type": "code",
   "execution_count": 5,
   "metadata": {},
   "outputs": [],
   "source": [
    "from keras.layers import BatchNormalization\n",
    "def build_mlp(input_shape, output_units=10, num_neurons=[256, 256, 256]):\n",
    "    input_layer = keras.layers.Input(input_shape)\n",
    "    \n",
    "    for i, n_units in enumerate(num_neurons):\n",
    "        if i == 0:\n",
    "            x = keras.layers.Dense(units=n_units, \n",
    "                                   activation=\"relu\", \n",
    "                                   name=\"hidden_layer\"+str(i+1))(input_layer)\n",
    "            x = BatchNormalization()(x)\n",
    "        else:\n",
    "            x = keras.layers.Dense(units=n_units, \n",
    "                                   activation=\"relu\", \n",
    "                                   name=\"hidden_layer\"+str(i+1))(x)\n",
    "            x = BatchNormalization()(x)\n",
    "    \n",
    "    out = keras.layers.Dense(units=output_units, activation=\"softmax\", name=\"output\")(x)\n",
    "    \n",
    "    model = keras.models.Model(inputs=[input_layer], outputs=[out])\n",
    "    return model"
   ]
  },
  {
   "cell_type": "code",
   "execution_count": 6,
   "metadata": {},
   "outputs": [],
   "source": [
    "## 超參數設定\n",
    "LEARNING_RATE = 1e-3\n",
    "EPOCHS = 25\n",
    "BATCH_SIZE = 1024\n",
    "MOMENTUM = 0.95"
   ]
  },
  {
   "cell_type": "code",
   "execution_count": 10,
   "metadata": {},
   "outputs": [],
   "source": [
    "# 載入 Callbacks\n",
    "from keras.callbacks import Callback\n",
    "from sklearn.metrics import confusion_matrix\n",
    "\n",
    "# Record_fp_tp\n",
    "class Record_tp_tn(Callback):\n",
    "    def on_train_begin(self, epoch, logs = {}):\n",
    "        logs = logs or {}\n",
    "        record_items = [\"val_auc\", \"val_f1sc\", \"val_fp\", \"val_fn\", \"val_tp\", \"val_tn\"]\n",
    "        for i in record_items:\n",
    "            if i not in self.params['metrics']:\n",
    "                self.params['metrics'].append(i)\n",
    "    def on_epoch_end(self, epoch, logs = {}, thres=0.5):\n",
    "        logs = logs or {}\n",
    "        y_true = self.validation_data[1].argmax(axis = 1)\n",
    "        y_pred = self.model.predict(self.validation_data[0])\n",
    "        y_pred = (y_pred[:, 1] >= thres) * 1\n",
    "        \n",
    "        cm = confusion_matrix(y_true, y_pred)\n",
    "        logs['val_tp'] = cm[0][0]\n",
    "        logs['val_tn'] = cm[1][1]\n",
    "           \n",
    "rec_tptn = Record_tp_tn()"
   ]
  },
  {
   "cell_type": "code",
   "execution_count": 11,
   "metadata": {
    "scrolled": true
   },
   "outputs": [
    {
     "name": "stdout",
     "output_type": "stream",
     "text": [
      "_________________________________________________________________\n",
      "Layer (type)                 Output Shape              Param #   \n",
      "=================================================================\n",
      "input_3 (InputLayer)         (None, 3072)              0         \n",
      "_________________________________________________________________\n",
      "hidden_layer1 (Dense)        (None, 256)               786688    \n",
      "_________________________________________________________________\n",
      "batch_normalization_7 (Batch (None, 256)               1024      \n",
      "_________________________________________________________________\n",
      "hidden_layer2 (Dense)        (None, 256)               65792     \n",
      "_________________________________________________________________\n",
      "batch_normalization_8 (Batch (None, 256)               1024      \n",
      "_________________________________________________________________\n",
      "hidden_layer3 (Dense)        (None, 256)               65792     \n",
      "_________________________________________________________________\n",
      "batch_normalization_9 (Batch (None, 256)               1024      \n",
      "_________________________________________________________________\n",
      "output (Dense)               (None, 10)                2570      \n",
      "=================================================================\n",
      "Total params: 923,914\n",
      "Trainable params: 922,378\n",
      "Non-trainable params: 1,536\n",
      "_________________________________________________________________\n",
      "Train on 50000 samples, validate on 10000 samples\n",
      "Epoch 1/25\n",
      "50000/50000 [==============================] - 4s 73us/step - loss: 2.1889 - acc: 0.2750 - val_loss: 2.1316 - val_acc: 0.3097\n",
      "Epoch 2/25\n",
      "50000/50000 [==============================] - 3s 63us/step - loss: 1.7561 - acc: 0.3896 - val_loss: 1.8401 - val_acc: 0.3649\n",
      "Epoch 3/25\n",
      "50000/50000 [==============================] - 3s 61us/step - loss: 1.6333 - acc: 0.4286 - val_loss: 1.7235 - val_acc: 0.3993\n",
      "Epoch 4/25\n",
      "50000/50000 [==============================] - 3s 61us/step - loss: 1.5604 - acc: 0.4537 - val_loss: 1.6571 - val_acc: 0.4171\n",
      "Epoch 5/25\n",
      "50000/50000 [==============================] - 3s 61us/step - loss: 1.5079 - acc: 0.4725 - val_loss: 1.6292 - val_acc: 0.4362\n",
      "Epoch 6/25\n",
      "50000/50000 [==============================] - 3s 63us/step - loss: 1.4634 - acc: 0.4896 - val_loss: 1.5919 - val_acc: 0.4414\n",
      "Epoch 7/25\n",
      "50000/50000 [==============================] - 3s 63us/step - loss: 1.4239 - acc: 0.5035 - val_loss: 1.5593 - val_acc: 0.4542\n",
      "Epoch 8/25\n",
      "50000/50000 [==============================] - 3s 63us/step - loss: 1.3912 - acc: 0.5156 - val_loss: 1.5233 - val_acc: 0.4677\n",
      "Epoch 9/25\n",
      "50000/50000 [==============================] - 3s 61us/step - loss: 1.3589 - acc: 0.5274 - val_loss: 1.5160 - val_acc: 0.4690\n",
      "Epoch 10/25\n",
      "50000/50000 [==============================] - 3s 63us/step - loss: 1.3325 - acc: 0.5360 - val_loss: 1.5067 - val_acc: 0.4759\n",
      "Epoch 11/25\n",
      "50000/50000 [==============================] - 3s 60us/step - loss: 1.3052 - acc: 0.5479 - val_loss: 1.4942 - val_acc: 0.4719\n",
      "Epoch 12/25\n",
      "50000/50000 [==============================] - 3s 63us/step - loss: 1.2803 - acc: 0.5557 - val_loss: 1.4822 - val_acc: 0.4843\n",
      "Epoch 13/25\n",
      "50000/50000 [==============================] - 3s 62us/step - loss: 1.2571 - acc: 0.5641 - val_loss: 1.4726 - val_acc: 0.4841\n",
      "Epoch 14/25\n",
      "50000/50000 [==============================] - 3s 61us/step - loss: 1.2346 - acc: 0.5727 - val_loss: 1.4722 - val_acc: 0.4861\n",
      "Epoch 15/25\n",
      "50000/50000 [==============================] - 3s 61us/step - loss: 1.2148 - acc: 0.5817 - val_loss: 1.4711 - val_acc: 0.4854\n",
      "Epoch 16/25\n",
      "50000/50000 [==============================] - 3s 62us/step - loss: 1.1928 - acc: 0.5888 - val_loss: 1.4543 - val_acc: 0.4902\n",
      "Epoch 17/25\n",
      "50000/50000 [==============================] - 3s 61us/step - loss: 1.1718 - acc: 0.5984 - val_loss: 1.4580 - val_acc: 0.4855\n",
      "Epoch 18/25\n",
      "50000/50000 [==============================] - 3s 61us/step - loss: 1.1545 - acc: 0.6012 - val_loss: 1.4508 - val_acc: 0.4858\n",
      "Epoch 19/25\n",
      "50000/50000 [==============================] - 3s 61us/step - loss: 1.1353 - acc: 0.6098 - val_loss: 1.4449 - val_acc: 0.4955\n",
      "Epoch 20/25\n",
      "50000/50000 [==============================] - 3s 61us/step - loss: 1.1151 - acc: 0.6171 - val_loss: 1.4459 - val_acc: 0.4970\n",
      "Epoch 21/25\n",
      "50000/50000 [==============================] - 3s 62us/step - loss: 1.0979 - acc: 0.6231 - val_loss: 1.4424 - val_acc: 0.4944\n",
      "Epoch 22/25\n",
      "50000/50000 [==============================] - 3s 60us/step - loss: 1.0826 - acc: 0.6292 - val_loss: 1.4586 - val_acc: 0.4880\n",
      "Epoch 23/25\n",
      "50000/50000 [==============================] - 3s 60us/step - loss: 1.0652 - acc: 0.6357 - val_loss: 1.4391 - val_acc: 0.4989\n",
      "Epoch 24/25\n",
      "50000/50000 [==============================] - 3s 60us/step - loss: 1.0473 - acc: 0.6447 - val_loss: 1.4429 - val_acc: 0.4986\n",
      "Epoch 25/25\n",
      "50000/50000 [==============================] - 3s 61us/step - loss: 1.0310 - acc: 0.6483 - val_loss: 1.4380 - val_acc: 0.4995\n"
     ]
    }
   ],
   "source": [
    "model = build_mlp(input_shape=x_train.shape[1:])\n",
    "model.summary()\n",
    "optimizer = keras.optimizers.SGD(lr=LEARNING_RATE, nesterov=True, momentum=MOMENTUM)\n",
    "model.compile(loss=\"categorical_crossentropy\", metrics=[\"accuracy\"], optimizer=optimizer)\n",
    "\n",
    "\"\"\"\n",
    "To do:\n",
    "Fit the model with rec_tptn callback_fn\n",
    "\"\"\"\n",
    "model.fit(x_train, y_train, \n",
    "          epochs=EPOCHS, \n",
    "          batch_size=BATCH_SIZE, \n",
    "          validation_data=(x_test, y_test), \n",
    "          shuffle=True,\n",
    "          callbacks=[rec_tptn]\n",
    "         )\n",
    "\n",
    "# Collect results\n",
    "train_loss = model.history.history[\"loss\"]\n",
    "valid_loss = model.history.history[\"val_loss\"]\n",
    "train_acc = model.history.history[\"acc\"]\n",
    "valid_acc = model.history.history[\"val_acc\"]\n",
    "\n",
    "\"\"\"\n",
    "To do:\n",
    "Collect tp/tn from model history\n",
    "\"\"\"\n",
    "valid_tp = model.history.history['val_tp']\n",
    "valid_tn = model.history.history['val_tn']\n"
   ]
  },
  {
   "cell_type": "code",
   "execution_count": 12,
   "metadata": {},
   "outputs": [
    {
     "data": {
      "image/png": "[encoded data removed]",
      "text/plain": [
       "<Figure size 432x288 with 1 Axes>"
      ]
     },
     "metadata": {},
     "output_type": "display_data"
    },
    {
     "data": {
      "image/png": "[encoded data removed]",
      "text/plain": [
       "<Figure size 432x288 with 1 Axes>"
      ]
     },
     "metadata": {},
     "output_type": "display_data"
    },
    {
     "data": {
      "image/png": "[encoded data removed]",
      "text/plain": [
       "<Figure size 432x288 with 1 Axes>"
      ]
     },
     "metadata": {},
     "output_type": "display_data"
    }
   ],
   "source": [
    "import matplotlib.pyplot as plt\n",
    "%matplotlib inline\n",
    "\n",
    "plt.plot(range(len(train_loss)), train_loss, label=\"train loss\")\n",
    "plt.plot(range(len(valid_loss)), valid_loss, label=\"valid loss\")\n",
    "plt.legend()\n",
    "plt.title(\"Loss\")\n",
    "plt.show()\n",
    "\n",
    "plt.plot(range(len(train_acc)), train_acc, label=\"train accuracy\")\n",
    "plt.plot(range(len(valid_acc)), valid_acc, label=\"valid accuracy\")\n",
    "plt.legend()\n",
    "plt.title(\"Accuracy\")\n",
    "plt.show()\n",
    "\n",
    "plt.plot(range(len(valid_tp)), valid_tp, label=\"valid tp\", color=\"navy\")\n",
    "plt.plot(range(len(valid_tn)), valid_tn, label=\"valid tn\", color=\"red\")\n",
    "plt.legend()\n",
    "plt.title(\"True positives and True Negatives\")\n",
    "plt.show()\n"
   ]
  },
  {
   "cell_type": "code",
   "execution_count": null,
   "metadata": {},
   "outputs": [],
   "source": []
  }
 ],
 "metadata": {
  "kernelspec": {
   "display_name": "Python 3",
   "language": "python",
   "name": "python3"
  },
  "language_info": {
   "codemirror_mode": {
    "name": "ipython",
    "version": 3
   },
   "file_extension": ".py",
   "mimetype": "text/x-python",
   "name": "python",
   "nbconvert_exporter": "python",
   "pygments_lexer": "ipython3",
   "version": "3.6.4"
  }
 },
 "nbformat": 4,
 "nbformat_minor": 2
}

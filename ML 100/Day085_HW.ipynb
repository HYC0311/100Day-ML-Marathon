{
 "cells": [
  {
   "cell_type": "markdown",
   "metadata": {},
   "source": [
    "## Work\n",
    "1. 試改變 monitor \"Validation Accuracy\" 並比較結果\n",
    "2. 調整 earlystop 的等待次數至 10, 25 並比較結果"
   ]
  },
  {
   "cell_type": "code",
   "execution_count": 1,
   "metadata": {},
   "outputs": [
    {
     "name": "stderr",
     "output_type": "stream",
     "text": [
      "C:\\ProgramData\\Anaconda3\\lib\\site-packages\\h5py\\__init__.py:36: FutureWarning: Conversion of the second argument of issubdtype from `float` to `np.floating` is deprecated. In future, it will be treated as `np.float64 == np.dtype(float).type`.\n",
      "  from ._conv import register_converters as _register_converters\n",
      "Using TensorFlow backend.\n"
     ]
    }
   ],
   "source": [
    "import os\n",
    "import keras\n",
    "import matplotlib.pyplot as plt\n",
    "%matplotlib inline\n",
    "\n",
    "\n",
    "# Disable GPU\n",
    "os.environ[\"CUDA_VISIBLE_DEVICES\"] = \"\""
   ]
  },
  {
   "cell_type": "code",
   "execution_count": 2,
   "metadata": {},
   "outputs": [],
   "source": [
    "train, test = keras.datasets.cifar10.load_data()"
   ]
  },
  {
   "cell_type": "code",
   "execution_count": 3,
   "metadata": {},
   "outputs": [],
   "source": [
    "## 資料前處理\n",
    "def preproc_x(x, flatten=True):\n",
    "    x = x / 255.\n",
    "    if flatten:\n",
    "        x = x.reshape((len(x), -1))\n",
    "    return x\n",
    "\n",
    "def preproc_y(y, num_classes=10):\n",
    "    if y.shape[-1] == 1:\n",
    "        y = keras.utils.to_categorical(y, num_classes)\n",
    "    return y    "
   ]
  },
  {
   "cell_type": "code",
   "execution_count": 4,
   "metadata": {},
   "outputs": [],
   "source": [
    "x_train, y_train = train\n",
    "x_test, y_test = test\n",
    "\n",
    "# Preproc the inputs\n",
    "x_train = preproc_x(x_train)\n",
    "x_test = preproc_x(x_test)\n",
    "\n",
    "# Preprc the outputs\n",
    "y_train = preproc_y(y_train)\n",
    "y_test = preproc_y(y_test)"
   ]
  },
  {
   "cell_type": "code",
   "execution_count": 5,
   "metadata": {},
   "outputs": [],
   "source": [
    "from keras.layers import BatchNormalization\n",
    "def build_mlp(input_shape, output_units=10, num_neurons=[512, 256, 128]):\n",
    "    input_layer = keras.layers.Input(input_shape)\n",
    "    \n",
    "    for i, n_units in enumerate(num_neurons):\n",
    "        if i == 0:\n",
    "            x = keras.layers.Dense(units=n_units, \n",
    "                                   activation=\"relu\", \n",
    "                                   name=\"hidden_layer\"+str(i+1))(input_layer)\n",
    "            x = BatchNormalization()(x)\n",
    "        else:\n",
    "            x = keras.layers.Dense(units=n_units, \n",
    "                                   activation=\"relu\", \n",
    "                                   name=\"hidden_layer\"+str(i+1))(x)\n",
    "            x = BatchNormalization()(x)\n",
    "    \n",
    "    out = keras.layers.Dense(units=output_units, activation=\"softmax\", name=\"output\")(x)\n",
    "    \n",
    "    model = keras.models.Model(inputs=[input_layer], outputs=[out])\n",
    "    return model"
   ]
  },
  {
   "cell_type": "code",
   "execution_count": 6,
   "metadata": {},
   "outputs": [],
   "source": [
    "## 超參數設定\n",
    "LEARNING_RATE = 1e-3\n",
    "EPOCHS = 50\n",
    "BATCH_SIZE = 1024\n",
    "MOMENTUM = 0.95"
   ]
  },
  {
   "cell_type": "code",
   "execution_count": 7,
   "metadata": {},
   "outputs": [],
   "source": [
    "\n",
    "# 載入 Callbacks\n",
    "from keras.callbacks import EarlyStopping\n",
    "\n",
    "earlystop = EarlyStopping(#monitor=\"val_loss\",\n",
    "                          monitor=\"acc\", \n",
    "                          patience=5, \n",
    "                          verbose=1\n",
    "                          )"
   ]
  },
  {
   "cell_type": "code",
   "execution_count": 8,
   "metadata": {},
   "outputs": [
    {
     "name": "stdout",
     "output_type": "stream",
     "text": [
      "_________________________________________________________________\n",
      "Layer (type)                 Output Shape              Param #   \n",
      "=================================================================\n",
      "input_1 (InputLayer)         (None, 3072)              0         \n",
      "_________________________________________________________________\n",
      "hidden_layer1 (Dense)        (None, 512)               1573376   \n",
      "_________________________________________________________________\n",
      "batch_normalization_1 (Batch (None, 512)               2048      \n",
      "_________________________________________________________________\n",
      "hidden_layer2 (Dense)        (None, 256)               131328    \n",
      "_________________________________________________________________\n",
      "batch_normalization_2 (Batch (None, 256)               1024      \n",
      "_________________________________________________________________\n",
      "hidden_layer3 (Dense)        (None, 128)               32896     \n",
      "_________________________________________________________________\n",
      "batch_normalization_3 (Batch (None, 128)               512       \n",
      "_________________________________________________________________\n",
      "output (Dense)               (None, 10)                1290      \n",
      "=================================================================\n",
      "Total params: 1,742,474\n",
      "Trainable params: 1,740,682\n",
      "Non-trainable params: 1,792\n",
      "_________________________________________________________________\n",
      "Train on 50000 samples, validate on 10000 samples\n",
      "Epoch 1/50\n",
      "50000/50000 [==============================] - 5s 91us/step - loss: 2.2538 - acc: 0.2674 - val_loss: 2.1546 - val_acc: 0.3058\n",
      "Epoch 2/50\n",
      "50000/50000 [==============================] - 4s 79us/step - loss: 1.7485 - acc: 0.3935 - val_loss: 1.8102 - val_acc: 0.3717\n",
      "Epoch 3/50\n",
      "50000/50000 [==============================] - 4s 79us/step - loss: 1.6223 - acc: 0.4335 - val_loss: 1.6881 - val_acc: 0.4081\n",
      "Epoch 4/50\n",
      "50000/50000 [==============================] - 4s 81us/step - loss: 1.5479 - acc: 0.4574 - val_loss: 1.6328 - val_acc: 0.4274\n",
      "Epoch 5/50\n",
      "50000/50000 [==============================] - 4s 85us/step - loss: 1.4939 - acc: 0.4785 - val_loss: 1.5903 - val_acc: 0.4369\n",
      "Epoch 6/50\n",
      "50000/50000 [==============================] - 4s 85us/step - loss: 1.4474 - acc: 0.4947 - val_loss: 1.5699 - val_acc: 0.4488\n",
      "Epoch 7/50\n",
      "50000/50000 [==============================] - 4s 82us/step - loss: 1.4082 - acc: 0.5107 - val_loss: 1.5425 - val_acc: 0.4569\n",
      "Epoch 8/50\n",
      "50000/50000 [==============================] - 4s 83us/step - loss: 1.3725 - acc: 0.5218 - val_loss: 1.5395 - val_acc: 0.4541\n",
      "Epoch 9/50\n",
      "50000/50000 [==============================] - 4s 80us/step - loss: 1.3412 - acc: 0.5341 - val_loss: 1.5135 - val_acc: 0.4630\n",
      "Epoch 10/50\n",
      "50000/50000 [==============================] - 4s 80us/step - loss: 1.3120 - acc: 0.5426 - val_loss: 1.5084 - val_acc: 0.4665\n",
      "Epoch 11/50\n",
      "50000/50000 [==============================] - 4s 79us/step - loss: 1.2842 - acc: 0.5546 - val_loss: 1.5036 - val_acc: 0.4738\n",
      "Epoch 12/50\n",
      "50000/50000 [==============================] - 4s 80us/step - loss: 1.2570 - acc: 0.5650 - val_loss: 1.4909 - val_acc: 0.4777\n",
      "Epoch 13/50\n",
      "50000/50000 [==============================] - 4s 79us/step - loss: 1.2329 - acc: 0.5737 - val_loss: 1.4903 - val_acc: 0.4789\n",
      "Epoch 14/50\n",
      "50000/50000 [==============================] - 4s 79us/step - loss: 1.2097 - acc: 0.5833 - val_loss: 1.4805 - val_acc: 0.4801\n",
      "Epoch 15/50\n",
      "50000/50000 [==============================] - 4s 80us/step - loss: 1.1860 - acc: 0.5913 - val_loss: 1.4603 - val_acc: 0.4811\n",
      "Epoch 16/50\n",
      "50000/50000 [==============================] - 4s 81us/step - loss: 1.1624 - acc: 0.6020 - val_loss: 1.4609 - val_acc: 0.4869\n",
      "Epoch 17/50\n",
      "50000/50000 [==============================] - 4s 79us/step - loss: 1.1404 - acc: 0.6091 - val_loss: 1.4508 - val_acc: 0.4923\n",
      "Epoch 18/50\n",
      "50000/50000 [==============================] - 4s 79us/step - loss: 1.1169 - acc: 0.6164 - val_loss: 1.4556 - val_acc: 0.4901\n",
      "Epoch 19/50\n",
      "50000/50000 [==============================] - 4s 79us/step - loss: 1.0940 - acc: 0.6270 - val_loss: 1.4593 - val_acc: 0.4873\n",
      "Epoch 20/50\n",
      "50000/50000 [==============================] - 4s 81us/step - loss: 1.0740 - acc: 0.6345 - val_loss: 1.4670 - val_acc: 0.4898\n",
      "Epoch 21/50\n",
      "50000/50000 [==============================] - 4s 80us/step - loss: 1.0530 - acc: 0.6433 - val_loss: 1.4762 - val_acc: 0.4893\n",
      "Epoch 22/50\n",
      "50000/50000 [==============================] - 4s 80us/step - loss: 1.0325 - acc: 0.6506 - val_loss: 1.4656 - val_acc: 0.4944\n",
      "Epoch 23/50\n",
      "50000/50000 [==============================] - 4s 79us/step - loss: 1.0115 - acc: 0.6572 - val_loss: 1.4486 - val_acc: 0.4950\n",
      "Epoch 24/50\n",
      "50000/50000 [==============================] - 4s 81us/step - loss: 0.9917 - acc: 0.6663 - val_loss: 1.4680 - val_acc: 0.4923\n",
      "Epoch 25/50\n",
      "50000/50000 [==============================] - 4s 79us/step - loss: 0.9698 - acc: 0.6746 - val_loss: 1.4539 - val_acc: 0.4990\n",
      "Epoch 26/50\n",
      "50000/50000 [==============================] - 4s 80us/step - loss: 0.9524 - acc: 0.6812 - val_loss: 1.4532 - val_acc: 0.4984\n",
      "Epoch 27/50\n",
      "50000/50000 [==============================] - 4s 79us/step - loss: 0.9304 - acc: 0.6909 - val_loss: 1.4617 - val_acc: 0.4987\n",
      "Epoch 28/50\n",
      "50000/50000 [==============================] - 4s 81us/step - loss: 0.9105 - acc: 0.6974 - val_loss: 1.4740 - val_acc: 0.4961\n",
      "Epoch 29/50\n",
      "50000/50000 [==============================] - 4s 79us/step - loss: 0.8910 - acc: 0.7054 - val_loss: 1.4877 - val_acc: 0.4913\n",
      "Epoch 30/50\n",
      "50000/50000 [==============================] - 4s 80us/step - loss: 0.8719 - acc: 0.7136 - val_loss: 1.4696 - val_acc: 0.4980\n",
      "Epoch 31/50\n",
      "50000/50000 [==============================] - 4s 80us/step - loss: 0.8521 - acc: 0.7209 - val_loss: 1.4786 - val_acc: 0.4981\n",
      "Epoch 32/50\n",
      "50000/50000 [==============================] - 4s 81us/step - loss: 0.8335 - acc: 0.7282 - val_loss: 1.4857 - val_acc: 0.4994\n",
      "Epoch 33/50\n",
      "50000/50000 [==============================] - 4s 79us/step - loss: 0.8156 - acc: 0.7358 - val_loss: 1.4890 - val_acc: 0.5003\n",
      "Epoch 34/50\n",
      "50000/50000 [==============================] - 4s 79us/step - loss: 0.7967 - acc: 0.7416 - val_loss: 1.4953 - val_acc: 0.4957\n",
      "Epoch 35/50\n",
      "50000/50000 [==============================] - 4s 79us/step - loss: 0.7779 - acc: 0.7484 - val_loss: 1.5082 - val_acc: 0.4988\n",
      "Epoch 36/50\n",
      "50000/50000 [==============================] - 4s 81us/step - loss: 0.7566 - acc: 0.7595 - val_loss: 1.5190 - val_acc: 0.4969\n",
      "Epoch 37/50\n",
      "50000/50000 [==============================] - 4s 79us/step - loss: 0.7384 - acc: 0.7650 - val_loss: 1.5289 - val_acc: 0.4954\n",
      "Epoch 38/50\n",
      "50000/50000 [==============================] - 4s 80us/step - loss: 0.7217 - acc: 0.7723 - val_loss: 1.5373 - val_acc: 0.4949\n",
      "Epoch 39/50\n",
      "50000/50000 [==============================] - 4s 81us/step - loss: 0.7032 - acc: 0.7800 - val_loss: 1.5413 - val_acc: 0.4994\n",
      "Epoch 40/50\n",
      "50000/50000 [==============================] - 4s 81us/step - loss: 0.6849 - acc: 0.7856 - val_loss: 1.5474 - val_acc: 0.4976\n",
      "Epoch 41/50\n",
      "50000/50000 [==============================] - 4s 80us/step - loss: 0.6671 - acc: 0.7947 - val_loss: 1.5455 - val_acc: 0.5006\n",
      "Epoch 42/50\n",
      "50000/50000 [==============================] - 4s 79us/step - loss: 0.6487 - acc: 0.8009 - val_loss: 1.5546 - val_acc: 0.5007\n",
      "Epoch 43/50\n",
      "50000/50000 [==============================] - 4s 80us/step - loss: 0.6304 - acc: 0.8090 - val_loss: 1.5694 - val_acc: 0.5006\n",
      "Epoch 44/50\n",
      "50000/50000 [==============================] - 4s 80us/step - loss: 0.6134 - acc: 0.8149 - val_loss: 1.5796 - val_acc: 0.4989\n",
      "Epoch 45/50\n",
      "50000/50000 [==============================] - 4s 79us/step - loss: 0.5958 - acc: 0.8239 - val_loss: 1.6141 - val_acc: 0.4906\n",
      "Epoch 46/50\n",
      "50000/50000 [==============================] - 4s 79us/step - loss: 0.5785 - acc: 0.8287 - val_loss: 1.6025 - val_acc: 0.4930\n",
      "Epoch 47/50\n",
      "50000/50000 [==============================] - 4s 80us/step - loss: 0.5622 - acc: 0.8361 - val_loss: 1.6377 - val_acc: 0.4880\n",
      "Epoch 48/50\n",
      "50000/50000 [==============================] - 4s 80us/step - loss: 0.5451 - acc: 0.8432 - val_loss: 1.6474 - val_acc: 0.4944\n",
      "Epoch 49/50\n",
      "50000/50000 [==============================] - 4s 80us/step - loss: 0.5270 - acc: 0.8495 - val_loss: 1.6340 - val_acc: 0.4919\n"
     ]
    },
    {
     "name": "stdout",
     "output_type": "stream",
     "text": [
      "Epoch 50/50\n",
      "50000/50000 [==============================] - 4s 79us/step - loss: 0.5106 - acc: 0.8559 - val_loss: 1.6472 - val_acc: 0.4908\n"
     ]
    }
   ],
   "source": [
    "model = build_mlp(input_shape=x_train.shape[1:])\n",
    "model.summary()\n",
    "optimizer = keras.optimizers.SGD(lr=LEARNING_RATE, nesterov=True, momentum=MOMENTUM)\n",
    "model.compile(loss=\"categorical_crossentropy\", metrics=[\"accuracy\"], optimizer=optimizer)\n",
    "\n",
    "model.fit(x_train, y_train, \n",
    "          epochs=EPOCHS, \n",
    "          batch_size=BATCH_SIZE, \n",
    "          validation_data=(x_test, y_test), \n",
    "          shuffle=True,\n",
    "          callbacks=[earlystop]\n",
    "         )\n",
    "\n",
    "# Collect results\n",
    "train_loss = model.history.history[\"loss\"]\n",
    "valid_loss = model.history.history[\"val_loss\"]\n",
    "train_acc = model.history.history[\"acc\"]\n",
    "valid_acc = model.history.history[\"val_acc\"]"
   ]
  },
  {
   "cell_type": "code",
   "execution_count": 9,
   "metadata": {},
   "outputs": [
    {
     "data": {
      "image/png": "[encoded data removed]",
      "text/plain": [
       "<Figure size 432x288 with 1 Axes>"
      ]
     },
     "metadata": {},
     "output_type": "display_data"
    },
    {
     "data": {
      "image/png": "[encoded data removed]",
      "text/plain": [
       "<Figure size 432x288 with 1 Axes>"
      ]
     },
     "metadata": {},
     "output_type": "display_data"
    }
   ],
   "source": [
    "import matplotlib.pyplot as plt\n",
    "%matplotlib inline\n",
    "\n",
    "plt.plot(range(len(train_loss)), train_loss, label=\"train loss\")\n",
    "plt.plot(range(len(valid_loss)), valid_loss, label=\"valid loss\")\n",
    "plt.legend()\n",
    "plt.title(\"Loss\")\n",
    "plt.show()\n",
    "\n",
    "plt.plot(range(len(train_acc)), train_acc, label=\"train accuracy\")\n",
    "plt.plot(range(len(valid_acc)), valid_acc, label=\"valid accuracy\")\n",
    "plt.legend()\n",
    "plt.title(\"Accuracy\")\n",
    "plt.show()"
   ]
  },
  {
   "cell_type": "code",
   "execution_count": 10,
   "metadata": {},
   "outputs": [],
   "source": [
    "from keras.callbacks import EarlyStopping\n",
    "\n",
    "earlystop = EarlyStopping(monitor=\"val_loss\", \n",
    "                          patience=10, \n",
    "                          verbose=1\n",
    "                          )"
   ]
  },
  {
   "cell_type": "code",
   "execution_count": 11,
   "metadata": {},
   "outputs": [
    {
     "name": "stdout",
     "output_type": "stream",
     "text": [
      "_________________________________________________________________\n",
      "Layer (type)                 Output Shape              Param #   \n",
      "=================================================================\n",
      "input_2 (InputLayer)         (None, 3072)              0         \n",
      "_________________________________________________________________\n",
      "hidden_layer1 (Dense)        (None, 512)               1573376   \n",
      "_________________________________________________________________\n",
      "batch_normalization_4 (Batch (None, 512)               2048      \n",
      "_________________________________________________________________\n",
      "hidden_layer2 (Dense)        (None, 256)               131328    \n",
      "_________________________________________________________________\n",
      "batch_normalization_5 (Batch (None, 256)               1024      \n",
      "_________________________________________________________________\n",
      "hidden_layer3 (Dense)        (None, 128)               32896     \n",
      "_________________________________________________________________\n",
      "batch_normalization_6 (Batch (None, 128)               512       \n",
      "_________________________________________________________________\n",
      "output (Dense)               (None, 10)                1290      \n",
      "=================================================================\n",
      "Total params: 1,742,474\n",
      "Trainable params: 1,740,682\n",
      "Non-trainable params: 1,792\n",
      "_________________________________________________________________\n",
      "Train on 50000 samples, validate on 10000 samples\n",
      "Epoch 1/50\n",
      "50000/50000 [==============================] - 5s 93us/step - loss: 2.1997 - acc: 0.2733 - val_loss: 2.0956 - val_acc: 0.3208\n",
      "Epoch 2/50\n",
      "50000/50000 [==============================] - 4s 80us/step - loss: 1.7339 - acc: 0.3957 - val_loss: 1.8084 - val_acc: 0.3810\n",
      "Epoch 3/50\n",
      "50000/50000 [==============================] - 4s 82us/step - loss: 1.6081 - acc: 0.4377 - val_loss: 1.6791 - val_acc: 0.4194\n",
      "Epoch 4/50\n",
      "50000/50000 [==============================] - 4s 80us/step - loss: 1.5368 - acc: 0.4609 - val_loss: 1.6409 - val_acc: 0.4268\n",
      "Epoch 5/50\n",
      "50000/50000 [==============================] - 4s 80us/step - loss: 1.4804 - acc: 0.4817 - val_loss: 1.5862 - val_acc: 0.4400\n",
      "Epoch 6/50\n",
      "50000/50000 [==============================] - 4s 80us/step - loss: 1.4335 - acc: 0.4971 - val_loss: 1.5621 - val_acc: 0.4543\n",
      "Epoch 7/50\n",
      "50000/50000 [==============================] - 4s 81us/step - loss: 1.3931 - acc: 0.5129 - val_loss: 1.5357 - val_acc: 0.4573\n",
      "Epoch 8/50\n",
      "50000/50000 [==============================] - 4s 80us/step - loss: 1.3580 - acc: 0.5255 - val_loss: 1.5300 - val_acc: 0.4638\n",
      "Epoch 9/50\n",
      "50000/50000 [==============================] - 4s 80us/step - loss: 1.3256 - acc: 0.5367 - val_loss: 1.5132 - val_acc: 0.4642\n",
      "Epoch 10/50\n",
      "50000/50000 [==============================] - 4s 80us/step - loss: 1.2956 - acc: 0.5484 - val_loss: 1.5000 - val_acc: 0.4740\n",
      "Epoch 11/50\n",
      "50000/50000 [==============================] - 4s 82us/step - loss: 1.2687 - acc: 0.5586 - val_loss: 1.4852 - val_acc: 0.4770\n",
      "Epoch 12/50\n",
      "50000/50000 [==============================] - 4s 80us/step - loss: 1.2417 - acc: 0.5675 - val_loss: 1.4747 - val_acc: 0.4816\n",
      "Epoch 13/50\n",
      "50000/50000 [==============================] - 4s 81us/step - loss: 1.2175 - acc: 0.5781 - val_loss: 1.4806 - val_acc: 0.4759\n",
      "Epoch 14/50\n",
      "50000/50000 [==============================] - 4s 81us/step - loss: 1.1914 - acc: 0.5879 - val_loss: 1.4706 - val_acc: 0.4824\n",
      "Epoch 15/50\n",
      "50000/50000 [==============================] - 4s 82us/step - loss: 1.1682 - acc: 0.5956 - val_loss: 1.4733 - val_acc: 0.4815\n",
      "Epoch 16/50\n",
      "50000/50000 [==============================] - 4s 80us/step - loss: 1.1472 - acc: 0.6040 - val_loss: 1.4713 - val_acc: 0.4835\n",
      "Epoch 17/50\n",
      "50000/50000 [==============================] - 4s 80us/step - loss: 1.1221 - acc: 0.6147 - val_loss: 1.4698 - val_acc: 0.4859\n",
      "Epoch 18/50\n",
      "50000/50000 [==============================] - 4s 80us/step - loss: 1.0985 - acc: 0.6227 - val_loss: 1.4569 - val_acc: 0.4867\n",
      "Epoch 19/50\n",
      "50000/50000 [==============================] - 4s 82us/step - loss: 1.0780 - acc: 0.6310 - val_loss: 1.4671 - val_acc: 0.4895\n",
      "Epoch 20/50\n",
      "50000/50000 [==============================] - 4s 80us/step - loss: 1.0554 - acc: 0.6406 - val_loss: 1.4710 - val_acc: 0.4819\n",
      "Epoch 21/50\n",
      "50000/50000 [==============================] - 4s 80us/step - loss: 1.0363 - acc: 0.6468 - val_loss: 1.4563 - val_acc: 0.4911\n",
      "Epoch 22/50\n",
      "50000/50000 [==============================] - 4s 80us/step - loss: 1.0127 - acc: 0.6570 - val_loss: 1.4744 - val_acc: 0.4903\n",
      "Epoch 23/50\n",
      "50000/50000 [==============================] - 4s 82us/step - loss: 0.9925 - acc: 0.6638 - val_loss: 1.4795 - val_acc: 0.4926\n",
      "Epoch 24/50\n",
      "50000/50000 [==============================] - 4s 80us/step - loss: 0.9723 - acc: 0.6706 - val_loss: 1.4655 - val_acc: 0.4908\n",
      "Epoch 25/50\n",
      "50000/50000 [==============================] - 4s 81us/step - loss: 0.9532 - acc: 0.6785 - val_loss: 1.4793 - val_acc: 0.4830\n",
      "Epoch 26/50\n",
      "50000/50000 [==============================] - 4s 81us/step - loss: 0.9331 - acc: 0.6878 - val_loss: 1.4684 - val_acc: 0.4922\n",
      "Epoch 27/50\n",
      "50000/50000 [==============================] - 4s 82us/step - loss: 0.9106 - acc: 0.6969 - val_loss: 1.4984 - val_acc: 0.4856\n",
      "Epoch 28/50\n",
      "50000/50000 [==============================] - 4s 81us/step - loss: 0.8926 - acc: 0.7022 - val_loss: 1.4840 - val_acc: 0.4881\n",
      "Epoch 29/50\n",
      "50000/50000 [==============================] - 4s 80us/step - loss: 0.8714 - acc: 0.7121 - val_loss: 1.4834 - val_acc: 0.4947\n",
      "Epoch 30/50\n",
      "50000/50000 [==============================] - 4s 81us/step - loss: 0.8501 - acc: 0.7208 - val_loss: 1.4938 - val_acc: 0.4855\n",
      "Epoch 31/50\n",
      "50000/50000 [==============================] - 4s 81us/step - loss: 0.8314 - acc: 0.7272 - val_loss: 1.5099 - val_acc: 0.4889\n",
      "Epoch 00031: early stopping\n"
     ]
    }
   ],
   "source": [
    "model = build_mlp(input_shape=x_train.shape[1:])\n",
    "model.summary()\n",
    "optimizer = keras.optimizers.SGD(lr=LEARNING_RATE, nesterov=True, momentum=MOMENTUM)\n",
    "model.compile(loss=\"categorical_crossentropy\", metrics=[\"accuracy\"], optimizer=optimizer)\n",
    "\n",
    "model.fit(x_train, y_train, \n",
    "          epochs=EPOCHS, \n",
    "          batch_size=BATCH_SIZE, \n",
    "          validation_data=(x_test, y_test), \n",
    "          shuffle=True,\n",
    "          callbacks=[earlystop]\n",
    "         )\n",
    "\n",
    "# Collect results\n",
    "train_loss = model.history.history[\"loss\"]\n",
    "valid_loss = model.history.history[\"val_loss\"]\n",
    "train_acc = model.history.history[\"acc\"]\n",
    "valid_acc = model.history.history[\"val_acc\"]"
   ]
  },
  {
   "cell_type": "code",
   "execution_count": 12,
   "metadata": {},
   "outputs": [
    {
     "data": {
      "image/png": "[encoded data removed]",
      "text/plain": [
       "<Figure size 432x288 with 1 Axes>"
      ]
     },
     "metadata": {},
     "output_type": "display_data"
    },
    {
     "data": {
      "image/png": "[encoded data removed]",
      "text/plain": [
       "<Figure size 432x288 with 1 Axes>"
      ]
     },
     "metadata": {},
     "output_type": "display_data"
    }
   ],
   "source": [
    "plt.plot(range(len(train_loss)), train_loss, label=\"train loss\")\n",
    "plt.plot(range(len(valid_loss)), valid_loss, label=\"valid loss\")\n",
    "plt.legend()\n",
    "plt.title(\"Loss\")\n",
    "plt.show()\n",
    "\n",
    "plt.plot(range(len(train_acc)), train_acc, label=\"train accuracy\")\n",
    "plt.plot(range(len(valid_acc)), valid_acc, label=\"valid accuracy\")\n",
    "plt.legend()\n",
    "plt.title(\"Accuracy\")\n",
    "plt.show()"
   ]
  },
  {
   "cell_type": "code",
   "execution_count": 13,
   "metadata": {},
   "outputs": [],
   "source": [
    "from keras.callbacks import EarlyStopping\n",
    "\n",
    "earlystop = EarlyStopping(monitor=\"val_loss\", \n",
    "                          patience=25, \n",
    "                          verbose=1\n",
    "                          )"
   ]
  },
  {
   "cell_type": "code",
   "execution_count": 14,
   "metadata": {},
   "outputs": [
    {
     "name": "stdout",
     "output_type": "stream",
     "text": [
      "_________________________________________________________________\n",
      "Layer (type)                 Output Shape              Param #   \n",
      "=================================================================\n",
      "input_3 (InputLayer)         (None, 3072)              0         \n",
      "_________________________________________________________________\n",
      "hidden_layer1 (Dense)        (None, 512)               1573376   \n",
      "_________________________________________________________________\n",
      "batch_normalization_7 (Batch (None, 512)               2048      \n",
      "_________________________________________________________________\n",
      "hidden_layer2 (Dense)        (None, 256)               131328    \n",
      "_________________________________________________________________\n",
      "batch_normalization_8 (Batch (None, 256)               1024      \n",
      "_________________________________________________________________\n",
      "hidden_layer3 (Dense)        (None, 128)               32896     \n",
      "_________________________________________________________________\n",
      "batch_normalization_9 (Batch (None, 128)               512       \n",
      "_________________________________________________________________\n",
      "output (Dense)               (None, 10)                1290      \n",
      "=================================================================\n",
      "Total params: 1,742,474\n",
      "Trainable params: 1,740,682\n",
      "Non-trainable params: 1,792\n",
      "_________________________________________________________________\n",
      "Train on 50000 samples, validate on 10000 samples\n",
      "Epoch 1/50\n",
      "50000/50000 [==============================] - 5s 97us/step - loss: 2.1962 - acc: 0.2720 - val_loss: 2.0712 - val_acc: 0.3104\n",
      "Epoch 2/50\n",
      "50000/50000 [==============================] - 4s 82us/step - loss: 1.7590 - acc: 0.3915 - val_loss: 1.8217 - val_acc: 0.3741\n",
      "Epoch 3/50\n",
      "50000/50000 [==============================] - 4s 81us/step - loss: 1.6326 - acc: 0.4323 - val_loss: 1.6908 - val_acc: 0.4135\n",
      "Epoch 4/50\n",
      "50000/50000 [==============================] - 4s 80us/step - loss: 1.5585 - acc: 0.4578 - val_loss: 1.6372 - val_acc: 0.4272\n",
      "Epoch 5/50\n",
      "50000/50000 [==============================] - 4s 82us/step - loss: 1.5016 - acc: 0.4762 - val_loss: 1.5915 - val_acc: 0.4423\n",
      "Epoch 6/50\n",
      "50000/50000 [==============================] - 4s 80us/step - loss: 1.4553 - acc: 0.4932 - val_loss: 1.5659 - val_acc: 0.4562\n",
      "Epoch 7/50\n",
      "50000/50000 [==============================] - 4s 80us/step - loss: 1.4145 - acc: 0.5093 - val_loss: 1.5342 - val_acc: 0.4583\n",
      "Epoch 8/50\n",
      "50000/50000 [==============================] - 4s 80us/step - loss: 1.3803 - acc: 0.5193 - val_loss: 1.5327 - val_acc: 0.4596\n",
      "Epoch 9/50\n",
      "50000/50000 [==============================] - 4s 81us/step - loss: 1.3470 - acc: 0.5314 - val_loss: 1.5092 - val_acc: 0.4700\n",
      "Epoch 10/50\n",
      "50000/50000 [==============================] - 4s 81us/step - loss: 1.3160 - acc: 0.5434 - val_loss: 1.4999 - val_acc: 0.4715\n",
      "Epoch 11/50\n",
      "50000/50000 [==============================] - 4s 80us/step - loss: 1.2871 - acc: 0.5546 - val_loss: 1.4914 - val_acc: 0.4716\n",
      "Epoch 12/50\n",
      "50000/50000 [==============================] - 4s 80us/step - loss: 1.2588 - acc: 0.5648 - val_loss: 1.4737 - val_acc: 0.4769\n",
      "Epoch 13/50\n",
      "50000/50000 [==============================] - 4s 81us/step - loss: 1.2333 - acc: 0.5741 - val_loss: 1.4775 - val_acc: 0.4767\n",
      "Epoch 14/50\n",
      "50000/50000 [==============================] - 4s 80us/step - loss: 1.2084 - acc: 0.5847 - val_loss: 1.4799 - val_acc: 0.4791\n",
      "Epoch 15/50\n",
      "50000/50000 [==============================] - 4s 82us/step - loss: 1.1840 - acc: 0.5948 - val_loss: 1.4589 - val_acc: 0.4891\n",
      "Epoch 16/50\n",
      "50000/50000 [==============================] - 4s 80us/step - loss: 1.1592 - acc: 0.6025 - val_loss: 1.4578 - val_acc: 0.4873\n",
      "Epoch 17/50\n",
      "50000/50000 [==============================] - 4s 82us/step - loss: 1.1366 - acc: 0.6125 - val_loss: 1.4593 - val_acc: 0.4857\n",
      "Epoch 18/50\n",
      "50000/50000 [==============================] - 4s 81us/step - loss: 1.1138 - acc: 0.6197 - val_loss: 1.4451 - val_acc: 0.4891\n",
      "Epoch 19/50\n",
      "50000/50000 [==============================] - 4s 80us/step - loss: 1.0922 - acc: 0.6284 - val_loss: 1.4488 - val_acc: 0.4898\n",
      "Epoch 20/50\n",
      "50000/50000 [==============================] - 4s 81us/step - loss: 1.0696 - acc: 0.6362 - val_loss: 1.4485 - val_acc: 0.4916\n",
      "Epoch 21/50\n",
      "50000/50000 [==============================] - 4s 81us/step - loss: 1.0490 - acc: 0.6444 - val_loss: 1.4494 - val_acc: 0.4930\n",
      "Epoch 22/50\n",
      "50000/50000 [==============================] - 4s 80us/step - loss: 1.0281 - acc: 0.6533 - val_loss: 1.4516 - val_acc: 0.4968\n",
      "Epoch 23/50\n",
      "50000/50000 [==============================] - 4s 80us/step - loss: 1.0071 - acc: 0.6611 - val_loss: 1.4516 - val_acc: 0.4948\n",
      "Epoch 24/50\n",
      "50000/50000 [==============================] - 4s 81us/step - loss: 0.9847 - acc: 0.6691 - val_loss: 1.4461 - val_acc: 0.4947\n",
      "Epoch 25/50\n",
      "50000/50000 [==============================] - 4s 82us/step - loss: 0.9669 - acc: 0.6731 - val_loss: 1.4648 - val_acc: 0.4920\n",
      "Epoch 26/50\n",
      "50000/50000 [==============================] - 4s 80us/step - loss: 0.9441 - acc: 0.6849 - val_loss: 1.4512 - val_acc: 0.4973\n",
      "Epoch 27/50\n",
      "50000/50000 [==============================] - 4s 80us/step - loss: 0.9251 - acc: 0.6899 - val_loss: 1.4567 - val_acc: 0.4987\n",
      "Epoch 28/50\n",
      "50000/50000 [==============================] - 4s 81us/step - loss: 0.9054 - acc: 0.6974 - val_loss: 1.4679 - val_acc: 0.4988\n",
      "Epoch 29/50\n",
      "50000/50000 [==============================] - 4s 82us/step - loss: 0.8876 - acc: 0.7056 - val_loss: 1.4659 - val_acc: 0.4973\n",
      "Epoch 30/50\n",
      "50000/50000 [==============================] - 4s 81us/step - loss: 0.8667 - acc: 0.7158 - val_loss: 1.4681 - val_acc: 0.4988\n",
      "Epoch 31/50\n",
      "50000/50000 [==============================] - 4s 81us/step - loss: 0.8449 - acc: 0.7220 - val_loss: 1.4844 - val_acc: 0.4970\n",
      "Epoch 32/50\n",
      "50000/50000 [==============================] - 4s 80us/step - loss: 0.8280 - acc: 0.7280 - val_loss: 1.4855 - val_acc: 0.4936\n",
      "Epoch 33/50\n",
      "50000/50000 [==============================] - 4s 82us/step - loss: 0.8085 - acc: 0.7375 - val_loss: 1.5017 - val_acc: 0.4966\n",
      "Epoch 34/50\n",
      "50000/50000 [==============================] - 4s 81us/step - loss: 0.7918 - acc: 0.7435 - val_loss: 1.5017 - val_acc: 0.4950\n",
      "Epoch 35/50\n",
      "50000/50000 [==============================] - 4s 81us/step - loss: 0.7713 - acc: 0.7524 - val_loss: 1.5264 - val_acc: 0.4912\n",
      "Epoch 36/50\n",
      "50000/50000 [==============================] - 4s 80us/step - loss: 0.7537 - acc: 0.7589 - val_loss: 1.5169 - val_acc: 0.4973\n",
      "Epoch 37/50\n",
      "50000/50000 [==============================] - 4s 81us/step - loss: 0.7338 - acc: 0.7669 - val_loss: 1.5202 - val_acc: 0.4995\n",
      "Epoch 38/50\n",
      "50000/50000 [==============================] - 4s 80us/step - loss: 0.7159 - acc: 0.7733 - val_loss: 1.5287 - val_acc: 0.4897\n",
      "Epoch 39/50\n",
      "50000/50000 [==============================] - 4s 80us/step - loss: 0.6961 - acc: 0.7812 - val_loss: 1.5241 - val_acc: 0.4951\n",
      "Epoch 40/50\n",
      "50000/50000 [==============================] - 4s 81us/step - loss: 0.6789 - acc: 0.7890 - val_loss: 1.5613 - val_acc: 0.4904\n",
      "Epoch 41/50\n",
      "50000/50000 [==============================] - 4s 81us/step - loss: 0.6615 - acc: 0.7958 - val_loss: 1.5490 - val_acc: 0.4946\n",
      "Epoch 42/50\n",
      "50000/50000 [==============================] - 4s 80us/step - loss: 0.6453 - acc: 0.8020 - val_loss: 1.5672 - val_acc: 0.4929\n",
      "Epoch 43/50\n",
      "50000/50000 [==============================] - 4s 81us/step - loss: 0.6252 - acc: 0.8097 - val_loss: 1.5792 - val_acc: 0.4929\n",
      "Epoch 00043: early stopping\n"
     ]
    }
   ],
   "source": [
    "model = build_mlp(input_shape=x_train.shape[1:])\n",
    "model.summary()\n",
    "optimizer = keras.optimizers.SGD(lr=LEARNING_RATE, nesterov=True, momentum=MOMENTUM)\n",
    "model.compile(loss=\"categorical_crossentropy\", metrics=[\"accuracy\"], optimizer=optimizer)\n",
    "\n",
    "model.fit(x_train, y_train, \n",
    "          epochs=EPOCHS, \n",
    "          batch_size=BATCH_SIZE, \n",
    "          validation_data=(x_test, y_test), \n",
    "          shuffle=True,\n",
    "          callbacks=[earlystop]\n",
    "         )\n",
    "\n",
    "# Collect results\n",
    "train_loss = model.history.history[\"loss\"]\n",
    "valid_loss = model.history.history[\"val_loss\"]\n",
    "train_acc = model.history.history[\"acc\"]\n",
    "valid_acc = model.history.history[\"val_acc\"]"
   ]
  },
  {
   "cell_type": "code",
   "execution_count": 15,
   "metadata": {},
   "outputs": [
    {
     "data": {
      "image/png": "[encoded data removed]",
      "text/plain": [
       "<Figure size 432x288 with 1 Axes>"
      ]
     },
     "metadata": {},
     "output_type": "display_data"
    },
    {
     "data": {
      "image/png": "[encoded data removed]",
      "text/plain": [
       "<Figure size 432x288 with 1 Axes>"
      ]
     },
     "metadata": {},
     "output_type": "display_data"
    }
   ],
   "source": [
    "plt.plot(range(len(train_loss)), train_loss, label=\"train loss\")\n",
    "plt.plot(range(len(valid_loss)), valid_loss, label=\"valid loss\")\n",
    "plt.legend()\n",
    "plt.title(\"Loss\")\n",
    "plt.show()\n",
    "\n",
    "plt.plot(range(len(train_acc)), train_acc, label=\"train accuracy\")\n",
    "plt.plot(range(len(valid_acc)), valid_acc, label=\"valid accuracy\")\n",
    "plt.legend()\n",
    "plt.title(\"Accuracy\")\n",
    "plt.show()"
   ]
  },
  {
   "cell_type": "code",
   "execution_count": null,
   "metadata": {},
   "outputs": [],
   "source": []
  }
 ],
 "metadata": {
  "kernelspec": {
   "display_name": "Python 3",
   "language": "python",
   "name": "python3"
  },
  "language_info": {
   "codemirror_mode": {
    "name": "ipython",
    "version": 3
   },
   "file_extension": ".py",
   "mimetype": "text/x-python",
   "name": "python",
   "nbconvert_exporter": "python",
   "pygments_lexer": "ipython3",
   "version": "3.6.4"
  }
 },
 "nbformat": 4,
 "nbformat_minor": 2
}

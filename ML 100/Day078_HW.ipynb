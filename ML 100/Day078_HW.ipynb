{
 "cells": [
  {
   "cell_type": "markdown",
   "metadata": {},
   "source": [
    "## Work\n",
    "1. 請嘗試將 preproc_x 替換成以每筆資料的 min/max 進行標準化至 -1 ~ 1 間，再進行訓練\n",
    "2. 請嘗試將 mlp 疊更深 (e.g 5~10 層)，進行訓練後觀察 learning curve 的走勢\n",
    "3. (optional) 請改用 GPU 進行訓練 (如果你有 GPU 的話)，比較使用 CPU 與 GPU 的訓練速度"
   ]
  },
  {
   "cell_type": "code",
   "execution_count": 1,
   "metadata": {},
   "outputs": [],
   "source": [
    "## 確認硬體資源\n",
    "\"\"\"\n",
    "Your code here\n",
    "\"\"\"\n"
   ]
  },
  {
   "cell_type": "code",
   "execution_count": 1,
   "metadata": {},
   "outputs": [
    {
     "name": "stderr",
     "output_type": "stream",
     "text": [
      "C:\\ProgramData\\Anaconda3\\lib\\site-packages\\h5py\\__init__.py:36: FutureWarning: Conversion of the second argument of issubdtype from `float` to `np.floating` is deprecated. In future, it will be treated as `np.float64 == np.dtype(float).type`.\n",
      "  from ._conv import register_converters as _register_converters\n",
      "Using TensorFlow backend.\n"
     ]
    }
   ],
   "source": [
    "import os\n",
    "import keras\n",
    "\n",
    "# Try to enable GPU (optional)\n"
   ]
  },
  {
   "cell_type": "code",
   "execution_count": 2,
   "metadata": {},
   "outputs": [],
   "source": [
    "train, test = keras.datasets.cifar10.load_data()"
   ]
  },
  {
   "cell_type": "code",
   "execution_count": 3,
   "metadata": {},
   "outputs": [],
   "source": [
    "## 資料前處理\n",
    "\"\"\"\n",
    "Your code here\n",
    "\"\"\"\n",
    "def preproc_x(x, flatten=True):\n",
    "    x = x / 255.\n",
    "    if flatten:\n",
    "        x = x.reshape((len(x), -1))\n",
    "    return x\n",
    "\n",
    "def preproc_y(y, num_classes=10):\n",
    "    if y.shape[-1] == 1:\n",
    "        y = keras.utils.to_categorical(y, num_classes)\n",
    "    return y "
   ]
  },
  {
   "cell_type": "code",
   "execution_count": 4,
   "metadata": {},
   "outputs": [],
   "source": [
    "x_train, y_train = train\n",
    "x_test, y_test = test\n",
    "\n",
    "# Preproc the inputs\n",
    "x_train = preproc_x(x_train)\n",
    "x_test = preproc_x(x_test)\n",
    "\n",
    "# Preprc the outputs\n",
    "y_train = preproc_y(y_train)\n",
    "y_test = preproc_y(y_test)"
   ]
  },
  {
   "cell_type": "code",
   "execution_count": 5,
   "metadata": {},
   "outputs": [],
   "source": [
    "\"\"\"\n",
    "Your code here\n",
    "\"\"\"\n",
    "def build_mlp(input_shape, output_units=10, num_neurons=[512, 256, 128, 256,512 ]):\n",
    "    input_layer = keras.layers.Input(input_shape)\n",
    "    \n",
    "    for i, n_units in enumerate(num_neurons):\n",
    "        if i == 0:\n",
    "            x = keras.layers.Dense(units=n_units, activation=\"relu\", name=\"hidden_layer\"+str(i+1))(input_layer)\n",
    "        else:\n",
    "            x = keras.layers.Dense(units=n_units, activation=\"relu\", name=\"hidden_layer\"+str(i+1))(x)\n",
    "    \n",
    "    out = keras.layers.Dense(units=output_units, activation=\"softmax\", name=\"output\")(x)\n",
    "    \n",
    "    model = keras.models.Model(inputs=[input_layer], outputs=[out])\n",
    "    return model"
   ]
  },
  {
   "cell_type": "code",
   "execution_count": 6,
   "metadata": {},
   "outputs": [],
   "source": [
    "## 超參數設定\n",
    "LEARNING_RATE = 0.001\n",
    "EPOCHS = 20\n",
    "BATCH_SIZE = 256"
   ]
  },
  {
   "cell_type": "code",
   "execution_count": 8,
   "metadata": {},
   "outputs": [
    {
     "name": "stdout",
     "output_type": "stream",
     "text": [
      "_________________________________________________________________\n",
      "Layer (type)                 Output Shape              Param #   \n",
      "=================================================================\n",
      "input_1 (InputLayer)         (None, 3072)              0         \n",
      "_________________________________________________________________\n",
      "hidden_layer1 (Dense)        (None, 512)               1573376   \n",
      "_________________________________________________________________\n",
      "hidden_layer2 (Dense)        (None, 256)               131328    \n",
      "_________________________________________________________________\n",
      "hidden_layer3 (Dense)        (None, 128)               32896     \n",
      "_________________________________________________________________\n",
      "hidden_layer4 (Dense)        (None, 256)               33024     \n",
      "_________________________________________________________________\n",
      "hidden_layer5 (Dense)        (None, 512)               131584    \n",
      "_________________________________________________________________\n",
      "output (Dense)               (None, 10)                5130      \n",
      "=================================================================\n",
      "Total params: 1,907,338\n",
      "Trainable params: 1,907,338\n",
      "Non-trainable params: 0\n",
      "_________________________________________________________________\n"
     ]
    }
   ],
   "source": [
    "model = build_mlp(input_shape=x_train.shape[1:])\n",
    "model.summary()"
   ]
  },
  {
   "cell_type": "code",
   "execution_count": 9,
   "metadata": {},
   "outputs": [],
   "source": [
    "optimizer = keras.optimizers.Adam(lr=LEARNING_RATE)\n",
    "model.compile(loss=\"categorical_crossentropy\", metrics=[\"accuracy\"], optimizer=optimizer)"
   ]
  },
  {
   "cell_type": "code",
   "execution_count": 10,
   "metadata": {},
   "outputs": [
    {
     "name": "stdout",
     "output_type": "stream",
     "text": [
      "Train on 50000 samples, validate on 10000 samples\n",
      "Epoch 1/20\n",
      "50000/50000 [==============================] - 7s 141us/step - loss: 1.8884 - acc: 0.3096 - val_loss: 1.7157 - val_acc: 0.3799\n",
      "Epoch 2/20\n",
      "50000/50000 [==============================] - 7s 135us/step - loss: 1.6908 - acc: 0.3912 - val_loss: 1.6541 - val_acc: 0.3928\n",
      "Epoch 3/20\n",
      "50000/50000 [==============================] - 7s 133us/step - loss: 1.6121 - acc: 0.4205 - val_loss: 1.6159 - val_acc: 0.4263\n",
      "Epoch 4/20\n",
      "50000/50000 [==============================] - 7s 135us/step - loss: 1.5437 - acc: 0.4471 - val_loss: 1.5418 - val_acc: 0.4471\n",
      "Epoch 5/20\n",
      "50000/50000 [==============================] - 7s 134us/step - loss: 1.4954 - acc: 0.4635 - val_loss: 1.5121 - val_acc: 0.4593\n",
      "Epoch 6/20\n",
      "50000/50000 [==============================] - 7s 134us/step - loss: 1.4601 - acc: 0.4782 - val_loss: 1.4869 - val_acc: 0.4671\n",
      "Epoch 7/20\n",
      "50000/50000 [==============================] - 7s 136us/step - loss: 1.4409 - acc: 0.4832 - val_loss: 1.4834 - val_acc: 0.4679\n",
      "Epoch 8/20\n",
      "50000/50000 [==============================] - 7s 134us/step - loss: 1.3985 - acc: 0.4982 - val_loss: 1.4462 - val_acc: 0.4880\n",
      "Epoch 9/20\n",
      "50000/50000 [==============================] - 7s 135us/step - loss: 1.3783 - acc: 0.5042 - val_loss: 1.4265 - val_acc: 0.4925\n",
      "Epoch 10/20\n",
      "50000/50000 [==============================] - 7s 133us/step - loss: 1.3365 - acc: 0.5212 - val_loss: 1.4393 - val_acc: 0.4870\n",
      "Epoch 11/20\n",
      "50000/50000 [==============================] - 7s 135us/step - loss: 1.3055 - acc: 0.5313 - val_loss: 1.4210 - val_acc: 0.4963\n",
      "Epoch 12/20\n",
      "50000/50000 [==============================] - 7s 134us/step - loss: 1.2920 - acc: 0.5367 - val_loss: 1.4104 - val_acc: 0.5028\n",
      "Epoch 13/20\n",
      "50000/50000 [==============================] - 7s 137us/step - loss: 1.2623 - acc: 0.5445 - val_loss: 1.4311 - val_acc: 0.4947\n",
      "Epoch 14/20\n",
      "50000/50000 [==============================] - 7s 133us/step - loss: 1.2389 - acc: 0.5546 - val_loss: 1.4122 - val_acc: 0.4994\n",
      "Epoch 15/20\n",
      "50000/50000 [==============================] - 7s 134us/step - loss: 1.2242 - acc: 0.5607 - val_loss: 1.4475 - val_acc: 0.4930\n",
      "Epoch 16/20\n",
      "50000/50000 [==============================] - 7s 133us/step - loss: 1.1923 - acc: 0.5717 - val_loss: 1.4041 - val_acc: 0.5094\n",
      "Epoch 17/20\n",
      "50000/50000 [==============================] - 7s 132us/step - loss: 1.1656 - acc: 0.5822 - val_loss: 1.3950 - val_acc: 0.5153\n",
      "Epoch 18/20\n",
      "50000/50000 [==============================] - 7s 135us/step - loss: 1.1324 - acc: 0.5921 - val_loss: 1.4062 - val_acc: 0.5143\n",
      "Epoch 19/20\n",
      "50000/50000 [==============================] - 7s 133us/step - loss: 1.1147 - acc: 0.5977 - val_loss: 1.4136 - val_acc: 0.5164\n",
      "Epoch 20/20\n",
      "50000/50000 [==============================] - 7s 134us/step - loss: 1.0910 - acc: 0.6064 - val_loss: 1.4810 - val_acc: 0.4950\n"
     ]
    },
    {
     "data": {
      "text/plain": [
       "<keras.callbacks.History at 0x1dc0037a550>"
      ]
     },
     "execution_count": 10,
     "metadata": {},
     "output_type": "execute_result"
    }
   ],
   "source": [
    "model.fit(x_train, y_train, \n",
    "          epochs=EPOCHS, \n",
    "          batch_size=BATCH_SIZE, \n",
    "          validation_data=(x_test, y_test), \n",
    "          shuffle=True)"
   ]
  },
  {
   "cell_type": "code",
   "execution_count": 11,
   "metadata": {},
   "outputs": [
    {
     "data": {
      "image/png": "[encoded data removed]",
      "text/plain": [
       "<Figure size 432x288 with 1 Axes>"
      ]
     },
     "metadata": {},
     "output_type": "display_data"
    },
    {
     "data": {
      "image/png": "[encoded data removed]",
      "text/plain": [
       "<Figure size 432x288 with 1 Axes>"
      ]
     },
     "metadata": {},
     "output_type": "display_data"
    }
   ],
   "source": [
    "import matplotlib.pyplot as plt\n",
    "\n",
    "%matplotlib inline\n",
    "train_loss = model.history.history[\"loss\"]\n",
    "valid_loss = model.history.history[\"val_loss\"]\n",
    "\n",
    "train_acc = model.history.history[\"acc\"]\n",
    "valid_acc = model.history.history[\"val_acc\"]\n",
    "\n",
    "plt.plot(range(len(train_loss)), train_loss, label=\"train loss\")\n",
    "plt.plot(range(len(valid_loss)), valid_loss, label=\"valid loss\")\n",
    "plt.legend()\n",
    "plt.title(\"Loss\")\n",
    "plt.show()\n",
    "\n",
    "plt.plot(range(len(train_acc)), train_acc, label=\"train accuracy\")\n",
    "plt.plot(range(len(valid_acc)), valid_acc, label=\"valid accuracy\")\n",
    "plt.legend()\n",
    "plt.title(\"Accuracy\")\n",
    "plt.show()"
   ]
  },
  {
   "cell_type": "code",
   "execution_count": null,
   "metadata": {},
   "outputs": [],
   "source": []
  }
 ],
 "metadata": {
  "kernelspec": {
   "display_name": "Python 3",
   "language": "python",
   "name": "python3"
  },
  "language_info": {
   "codemirror_mode": {
    "name": "ipython",
    "version": 3
   },
   "file_extension": ".py",
   "mimetype": "text/x-python",
   "name": "python",
   "nbconvert_exporter": "python",
   "pygments_lexer": "ipython3",
   "version": "3.6.4"
  }
 },
 "nbformat": 4,
 "nbformat_minor": 2
}

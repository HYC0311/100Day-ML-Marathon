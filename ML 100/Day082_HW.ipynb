{
 "cells": [
  {
   "cell_type": "markdown",
   "metadata": {},
   "source": [
    "## Work\n",
    "1. 請比較使用不同層數以及不同 Dropout rate 對訓練的效果\n",
    "2. 將 optimizer 改成使用 Adam 並加上適當的 dropout rate 檢視結果"
   ]
  },
  {
   "cell_type": "code",
   "execution_count": 1,
   "metadata": {},
   "outputs": [
    {
     "name": "stderr",
     "output_type": "stream",
     "text": [
      "C:\\ProgramData\\Anaconda3\\lib\\site-packages\\h5py\\__init__.py:36: FutureWarning: Conversion of the second argument of issubdtype from `float` to `np.floating` is deprecated. In future, it will be treated as `np.float64 == np.dtype(float).type`.\n",
      "  from ._conv import register_converters as _register_converters\n",
      "Using TensorFlow backend.\n"
     ]
    }
   ],
   "source": [
    "import os\n",
    "import keras\n",
    "import itertools\n",
    "# Disable GPU\n",
    "os.environ[\"CUDA_VISIBLE_DEVICES\"] = \"\""
   ]
  },
  {
   "cell_type": "code",
   "execution_count": 2,
   "metadata": {},
   "outputs": [],
   "source": [
    "train, test = keras.datasets.cifar10.load_data()"
   ]
  },
  {
   "cell_type": "code",
   "execution_count": 3,
   "metadata": {},
   "outputs": [],
   "source": [
    "## 資料前處理\n",
    "def preproc_x(x, flatten=True):\n",
    "    x = x / 255.\n",
    "    if flatten:\n",
    "        x = x.reshape((len(x), -1))\n",
    "    return x\n",
    "\n",
    "def preproc_y(y, num_classes=10):\n",
    "    if y.shape[-1] == 1:\n",
    "        y = keras.utils.to_categorical(y, num_classes)\n",
    "    return y    "
   ]
  },
  {
   "cell_type": "code",
   "execution_count": 4,
   "metadata": {},
   "outputs": [],
   "source": [
    "x_train, y_train = train\n",
    "x_test, y_test = test\n",
    "\n",
    "# Preproc the inputs\n",
    "x_train = preproc_x(x_train)\n",
    "x_test = preproc_x(x_test)\n",
    "\n",
    "# Preprc the outputs\n",
    "y_train = preproc_y(y_train)\n",
    "y_test = preproc_y(y_test)"
   ]
  },
  {
   "cell_type": "code",
   "execution_count": 9,
   "metadata": {},
   "outputs": [],
   "source": [
    "\n",
    "from keras.layers import Dropout\n",
    "def build_mlp(input_shape, output_units=10, num_neurons=[512, 256, 128,256,512], drp_ratio=0.3):\n",
    "    input_layer = keras.layers.Input(input_shape)\n",
    "    \n",
    "    for i, n_units in enumerate(num_neurons):\n",
    "        if i == 0:\n",
    "            x = keras.layers.Dense(units=n_units, \n",
    "                                   activation=\"relu\", \n",
    "                                   name=\"hidden_layer\"+str(i+1))(input_layer)\n",
    "            x = Dropout(drp_ratio)(x)\n",
    "        else:\n",
    "            x = keras.layers.Dense(units=n_units, \n",
    "                                   activation=\"relu\", \n",
    "                                   name=\"hidden_layer\"+str(i+1))(x)\n",
    "            x = Dropout(drp_ratio)(x)\n",
    "    \n",
    "    out = keras.layers.Dense(units=output_units, activation=\"softmax\", name=\"output\")(x)\n",
    "    \n",
    "    model = keras.models.Model(inputs=[input_layer], outputs=[out])\n",
    "    return model"
   ]
  },
  {
   "cell_type": "code",
   "execution_count": 10,
   "metadata": {},
   "outputs": [],
   "source": [
    "## 超參數設定\n",
    "\"\"\"\n",
    "Set Hyper-parameters here\n",
    "\"\"\"\n",
    "\n",
    "LEARNING_RATE = 1e-3\n",
    "EPOCHS = 50\n",
    "BATCH_SIZE = 256\n",
    "MOMENTUM = 0.95\n"
   ]
  },
  {
   "cell_type": "code",
   "execution_count": 11,
   "metadata": {
    "scrolled": true
   },
   "outputs": [
    {
     "name": "stdout",
     "output_type": "stream",
     "text": [
      "_________________________________________________________________\n",
      "Layer (type)                 Output Shape              Param #   \n",
      "=================================================================\n",
      "input_2 (InputLayer)         (None, 3072)              0         \n",
      "_________________________________________________________________\n",
      "hidden_layer1 (Dense)        (None, 512)               1573376   \n",
      "_________________________________________________________________\n",
      "dropout_6 (Dropout)          (None, 512)               0         \n",
      "_________________________________________________________________\n",
      "hidden_layer2 (Dense)        (None, 256)               131328    \n",
      "_________________________________________________________________\n",
      "dropout_7 (Dropout)          (None, 256)               0         \n",
      "_________________________________________________________________\n",
      "hidden_layer3 (Dense)        (None, 128)               32896     \n",
      "_________________________________________________________________\n",
      "dropout_8 (Dropout)          (None, 128)               0         \n",
      "_________________________________________________________________\n",
      "hidden_layer4 (Dense)        (None, 256)               33024     \n",
      "_________________________________________________________________\n",
      "dropout_9 (Dropout)          (None, 256)               0         \n",
      "_________________________________________________________________\n",
      "hidden_layer5 (Dense)        (None, 512)               131584    \n",
      "_________________________________________________________________\n",
      "dropout_10 (Dropout)         (None, 512)               0         \n",
      "_________________________________________________________________\n",
      "output (Dense)               (None, 10)                5130      \n",
      "=================================================================\n",
      "Total params: 1,907,338\n",
      "Trainable params: 1,907,338\n",
      "Non-trainable params: 0\n",
      "_________________________________________________________________\n",
      "Train on 50000 samples, validate on 10000 samples\n",
      "Epoch 1/50\n",
      "50000/50000 [==============================] - 8s 158us/step - loss: 2.1184 - acc: 0.1932 - val_loss: 1.9263 - val_acc: 0.2975\n",
      "Epoch 2/50\n",
      "50000/50000 [==============================] - 8s 157us/step - loss: 1.9468 - acc: 0.2785 - val_loss: 1.8819 - val_acc: 0.2911\n",
      "Epoch 3/50\n",
      "50000/50000 [==============================] - 7s 146us/step - loss: 1.8997 - acc: 0.2942 - val_loss: 1.8359 - val_acc: 0.3446\n",
      "Epoch 4/50\n",
      "50000/50000 [==============================] - 7s 147us/step - loss: 1.8812 - acc: 0.3015 - val_loss: 1.8390 - val_acc: 0.3463\n",
      "Epoch 5/50\n",
      "50000/50000 [==============================] - 7s 146us/step - loss: 1.8572 - acc: 0.3153 - val_loss: 1.8178 - val_acc: 0.3621\n",
      "Epoch 6/50\n",
      "50000/50000 [==============================] - 7s 146us/step - loss: 1.8522 - acc: 0.3189 - val_loss: 1.8063 - val_acc: 0.3541\n",
      "Epoch 7/50\n",
      "50000/50000 [==============================] - 7s 146us/step - loss: 1.8301 - acc: 0.3263 - val_loss: 1.7609 - val_acc: 0.3813\n",
      "Epoch 8/50\n",
      "50000/50000 [==============================] - 7s 147us/step - loss: 1.8117 - acc: 0.3365 - val_loss: 1.7592 - val_acc: 0.3776\n",
      "Epoch 9/50\n",
      "50000/50000 [==============================] - 7s 147us/step - loss: 1.7982 - acc: 0.3385 - val_loss: 1.7241 - val_acc: 0.3894\n",
      "Epoch 10/50\n",
      "50000/50000 [==============================] - 8s 152us/step - loss: 1.7914 - acc: 0.3418 - val_loss: 1.7086 - val_acc: 0.4009\n",
      "Epoch 11/50\n",
      "50000/50000 [==============================] - 8s 151us/step - loss: 1.7891 - acc: 0.3447 - val_loss: 1.7050 - val_acc: 0.3978\n",
      "Epoch 12/50\n",
      "50000/50000 [==============================] - 7s 146us/step - loss: 1.7862 - acc: 0.3461 - val_loss: 1.7181 - val_acc: 0.3919\n",
      "Epoch 13/50\n",
      "50000/50000 [==============================] - 7s 146us/step - loss: 1.7673 - acc: 0.3530 - val_loss: 1.6948 - val_acc: 0.3935\n",
      "Epoch 14/50\n",
      "50000/50000 [==============================] - 7s 146us/step - loss: 1.7495 - acc: 0.3590 - val_loss: 1.6839 - val_acc: 0.3958\n",
      "Epoch 15/50\n",
      "50000/50000 [==============================] - 7s 149us/step - loss: 1.7513 - acc: 0.3595 - val_loss: 1.6702 - val_acc: 0.4106\n",
      "Epoch 16/50\n",
      "50000/50000 [==============================] - 7s 145us/step - loss: 1.7430 - acc: 0.3613 - val_loss: 1.6730 - val_acc: 0.4094\n",
      "Epoch 17/50\n",
      "50000/50000 [==============================] - 7s 146us/step - loss: 1.7418 - acc: 0.3635 - val_loss: 1.7220 - val_acc: 0.3923\n",
      "Epoch 18/50\n",
      "50000/50000 [==============================] - 7s 146us/step - loss: 1.7271 - acc: 0.3672 - val_loss: 1.6599 - val_acc: 0.4094\n",
      "Epoch 19/50\n",
      "50000/50000 [==============================] - 7s 149us/step - loss: 1.7285 - acc: 0.3726 - val_loss: 1.6741 - val_acc: 0.4080\n",
      "Epoch 20/50\n",
      "50000/50000 [==============================] - 7s 145us/step - loss: 1.7232 - acc: 0.3726 - val_loss: 1.6855 - val_acc: 0.3991\n",
      "Epoch 21/50\n",
      "50000/50000 [==============================] - 7s 146us/step - loss: 1.7165 - acc: 0.3731 - val_loss: 1.6640 - val_acc: 0.4133\n",
      "Epoch 22/50\n",
      "50000/50000 [==============================] - 7s 146us/step - loss: 1.7036 - acc: 0.3801 - val_loss: 1.6607 - val_acc: 0.4173\n",
      "Epoch 23/50\n",
      "50000/50000 [==============================] - 7s 146us/step - loss: 1.7052 - acc: 0.3776 - val_loss: 1.6664 - val_acc: 0.4089\n",
      "Epoch 24/50\n",
      "50000/50000 [==============================] - 7s 144us/step - loss: 1.7102 - acc: 0.3760 - val_loss: 1.6543 - val_acc: 0.4182\n",
      "Epoch 25/50\n",
      "50000/50000 [==============================] - 7s 145us/step - loss: 1.7005 - acc: 0.3788 - val_loss: 1.6909 - val_acc: 0.4056\n",
      "Epoch 26/50\n",
      "50000/50000 [==============================] - 7s 146us/step - loss: 1.6958 - acc: 0.3831 - val_loss: 1.6699 - val_acc: 0.4062\n",
      "Epoch 27/50\n",
      "50000/50000 [==============================] - 7s 147us/step - loss: 1.6901 - acc: 0.3857 - val_loss: 1.6651 - val_acc: 0.4153\n",
      "Epoch 28/50\n",
      "50000/50000 [==============================] - 7s 147us/step - loss: 1.6943 - acc: 0.3818 - val_loss: 1.6454 - val_acc: 0.4184\n",
      "Epoch 29/50\n",
      "50000/50000 [==============================] - 7s 146us/step - loss: 1.6941 - acc: 0.3827 - val_loss: 1.6416 - val_acc: 0.4184\n",
      "Epoch 30/50\n",
      "50000/50000 [==============================] - 7s 147us/step - loss: 1.6821 - acc: 0.3884 - val_loss: 1.6596 - val_acc: 0.4128\n",
      "Epoch 31/50\n",
      "50000/50000 [==============================] - 7s 146us/step - loss: 1.6944 - acc: 0.3814 - val_loss: 1.6422 - val_acc: 0.4239\n",
      "Epoch 32/50\n",
      "50000/50000 [==============================] - 7s 147us/step - loss: 1.6820 - acc: 0.3880 - val_loss: 1.6242 - val_acc: 0.4220\n",
      "Epoch 33/50\n",
      "50000/50000 [==============================] - 7s 146us/step - loss: 1.6823 - acc: 0.3870 - val_loss: 1.6109 - val_acc: 0.4332\n",
      "Epoch 34/50\n",
      "50000/50000 [==============================] - 7s 148us/step - loss: 1.6769 - acc: 0.3912 - val_loss: 1.6388 - val_acc: 0.4123\n",
      "Epoch 35/50\n",
      "50000/50000 [==============================] - 7s 146us/step - loss: 1.6726 - acc: 0.3909 - val_loss: 1.6516 - val_acc: 0.4209\n",
      "Epoch 36/50\n",
      "50000/50000 [==============================] - 7s 146us/step - loss: 1.6757 - acc: 0.3912 - val_loss: 1.6310 - val_acc: 0.4287\n",
      "Epoch 37/50\n",
      "50000/50000 [==============================] - 7s 146us/step - loss: 1.6682 - acc: 0.3938 - val_loss: 1.6431 - val_acc: 0.4129\n",
      "Epoch 38/50\n",
      "50000/50000 [==============================] - 7s 145us/step - loss: 1.6689 - acc: 0.3911 - val_loss: 1.6221 - val_acc: 0.4202\n",
      "Epoch 39/50\n",
      "50000/50000 [==============================] - 7s 148us/step - loss: 1.6622 - acc: 0.3944 - val_loss: 1.6121 - val_acc: 0.4267\n",
      "Epoch 40/50\n",
      "50000/50000 [==============================] - 7s 144us/step - loss: 1.6657 - acc: 0.3933 - val_loss: 1.6405 - val_acc: 0.4084\n",
      "Epoch 41/50\n",
      "50000/50000 [==============================] - 7s 146us/step - loss: 1.6692 - acc: 0.3940 - val_loss: 1.6252 - val_acc: 0.4181\n",
      "Epoch 42/50\n",
      "50000/50000 [==============================] - 7s 146us/step - loss: 1.6648 - acc: 0.3917 - val_loss: 1.6419 - val_acc: 0.4147\n",
      "Epoch 43/50\n",
      "50000/50000 [==============================] - 7s 147us/step - loss: 1.6629 - acc: 0.3942 - val_loss: 1.6159 - val_acc: 0.4274\n",
      "Epoch 44/50\n",
      "50000/50000 [==============================] - 7s 146us/step - loss: 1.6588 - acc: 0.3972 - val_loss: 1.6160 - val_acc: 0.4276\n",
      "Epoch 45/50\n",
      "50000/50000 [==============================] - 7s 147us/step - loss: 1.6558 - acc: 0.3998 - val_loss: 1.5985 - val_acc: 0.4343\n"
     ]
    },
    {
     "name": "stdout",
     "output_type": "stream",
     "text": [
      "Epoch 46/50\n",
      "50000/50000 [==============================] - 7s 144us/step - loss: 1.6619 - acc: 0.3969 - val_loss: 1.5869 - val_acc: 0.4318\n",
      "Epoch 47/50\n",
      "50000/50000 [==============================] - 7s 144us/step - loss: 1.6515 - acc: 0.4001 - val_loss: 1.6017 - val_acc: 0.4281\n",
      "Epoch 48/50\n",
      "50000/50000 [==============================] - 7s 145us/step - loss: 1.6520 - acc: 0.4012 - val_loss: 1.6219 - val_acc: 0.4291\n",
      "Epoch 49/50\n",
      "50000/50000 [==============================] - 7s 145us/step - loss: 1.6441 - acc: 0.4051 - val_loss: 1.6217 - val_acc: 0.4276\n",
      "Epoch 50/50\n",
      "50000/50000 [==============================] - 7s 145us/step - loss: 1.6555 - acc: 0.4004 - val_loss: 1.6098 - val_acc: 0.4351\n"
     ]
    }
   ],
   "source": [
    "results = {}\n",
    "\"\"\"\n",
    "Write your training loop and record results\n",
    "\"\"\"\n",
    "\n",
    "model = build_mlp(input_shape=x_train.shape[1:])\n",
    "model.summary()\n",
    "optimizer = keras.optimizers.SGD(lr=LEARNING_RATE, nesterov=True, momentum=MOMENTUM)\n",
    "model.compile(loss=\"categorical_crossentropy\", metrics=[\"accuracy\"], optimizer='adam')\n",
    "\n",
    "model.fit(x_train, y_train, \n",
    "          epochs=EPOCHS, \n",
    "          batch_size=BATCH_SIZE, \n",
    "          validation_data=(x_test, y_test), \n",
    "          shuffle=True)\n",
    "\n",
    "# Collect results\n",
    "train_loss = model.history.history[\"loss\"]\n",
    "valid_loss = model.history.history[\"val_loss\"]\n",
    "train_acc = model.history.history[\"acc\"]\n",
    "valid_acc = model.history.history[\"val_acc\"]"
   ]
  },
  {
   "cell_type": "code",
   "execution_count": 12,
   "metadata": {},
   "outputs": [
    {
     "data": {
      "image/png": "[encoded data removed]",
      "text/plain": [
       "<Figure size 432x288 with 1 Axes>"
      ]
     },
     "metadata": {},
     "output_type": "display_data"
    },
    {
     "data": {
      "image/png": "[encoded data removed]",
      "text/plain": [
       "<Figure size 432x288 with 1 Axes>"
      ]
     },
     "metadata": {},
     "output_type": "display_data"
    }
   ],
   "source": [
    "\n",
    "\"\"\"\n",
    "Plot results\n",
    "\"\"\"\n",
    "\n",
    "import matplotlib.pyplot as plt\n",
    "%matplotlib inline\n",
    "\n",
    "plt.plot(range(len(train_loss)), train_loss, label=\"train loss\")\n",
    "plt.plot(range(len(valid_loss)), valid_loss, label=\"valid loss\")\n",
    "plt.legend()\n",
    "plt.title(\"Loss\")\n",
    "plt.show()\n",
    "\n",
    "plt.plot(range(len(train_acc)), train_acc, label=\"train accuracy\")\n",
    "plt.plot(range(len(valid_acc)), valid_acc, label=\"valid accuracy\")\n",
    "plt.legend()\n",
    "plt.title(\"Accuracy\")\n",
    "plt.show()"
   ]
  },
  {
   "cell_type": "code",
   "execution_count": null,
   "metadata": {},
   "outputs": [],
   "source": []
  }
 ],
 "metadata": {
  "kernelspec": {
   "display_name": "Python 3",
   "language": "python",
   "name": "python3"
  },
  "language_info": {
   "codemirror_mode": {
    "name": "ipython",
    "version": 3
   },
   "file_extension": ".py",
   "mimetype": "text/x-python",
   "name": "python",
   "nbconvert_exporter": "python",
   "pygments_lexer": "ipython3",
   "version": "3.6.4"
  }
 },
 "nbformat": 4,
 "nbformat_minor": 2
}

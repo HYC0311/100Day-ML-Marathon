{
 "cells": [
  {
   "cell_type": "markdown",
   "metadata": {},
   "source": [
    "# 作業:\n",
    "嘗試調整參數:  \n",
    "sg:sg=1表示採用skip-gram,sg=0 表示採用cbow  \n",
    "window:能往左往右看幾個字的意思 "
   ]
  },
  {
   "cell_type": "code",
   "execution_count": 1,
   "metadata": {},
   "outputs": [],
   "source": [
    "import gensim, logging\n",
    "from gensim.models import word2vec"
   ]
  },
  {
   "cell_type": "code",
   "execution_count": 4,
   "metadata": {},
   "outputs": [
    {
     "name": "stderr",
     "output_type": "stream",
     "text": [
      "2019-03-22 12:22:51,489 : INFO : collecting all words and their counts\n",
      "2019-03-22 12:22:51,490 : INFO : PROGRESS: at sentence #0, processed 0 words, keeping 0 word types\n",
      "2019-03-22 12:22:51,491 : INFO : collected 3 word types from a corpus of 4 raw words and 2 sentences\n",
      "2019-03-22 12:22:51,491 : INFO : Loading a fresh vocabulary\n",
      "2019-03-22 12:22:51,492 : INFO : effective_min_count=1 retains 3 unique words (100% of original 3, drops 0)\n",
      "2019-03-22 12:22:51,492 : INFO : effective_min_count=1 leaves 4 word corpus (100% of original 4, drops 0)\n",
      "2019-03-22 12:22:51,493 : INFO : deleting the raw counts dictionary of 3 items\n",
      "2019-03-22 12:22:51,494 : INFO : sample=0.001 downsamples 3 most-common words\n",
      "2019-03-22 12:22:51,495 : INFO : downsampling leaves estimated 0 word corpus (5.7% of prior 4)\n",
      "2019-03-22 12:22:51,495 : INFO : estimated required memory for 3 words and 128 dimensions: 4572 bytes\n",
      "2019-03-22 12:22:51,496 : INFO : resetting layer weights\n",
      "2019-03-22 12:22:51,497 : INFO : training model with 4 workers on 3 vocabulary and 128 features, using sg=0 hs=0 sample=0.001 negative=5 window=3\n",
      "2019-03-22 12:22:51,499 : INFO : worker thread finished; awaiting finish of 3 more threads\n",
      "2019-03-22 12:22:51,499 : INFO : worker thread finished; awaiting finish of 2 more threads\n",
      "2019-03-22 12:22:51,500 : INFO : worker thread finished; awaiting finish of 1 more threads\n",
      "2019-03-22 12:22:51,500 : INFO : worker thread finished; awaiting finish of 0 more threads\n",
      "2019-03-22 12:22:51,501 : INFO : EPOCH - 1 : training on 4 raw words (0 effective words) took 0.0s, 0 effective words/s\n",
      "2019-03-22 12:22:51,503 : INFO : worker thread finished; awaiting finish of 3 more threads\n",
      "2019-03-22 12:22:51,504 : INFO : worker thread finished; awaiting finish of 2 more threads\n",
      "2019-03-22 12:22:51,504 : INFO : worker thread finished; awaiting finish of 1 more threads\n",
      "2019-03-22 12:22:51,505 : INFO : worker thread finished; awaiting finish of 0 more threads\n",
      "2019-03-22 12:22:51,505 : INFO : EPOCH - 2 : training on 4 raw words (0 effective words) took 0.0s, 0 effective words/s\n",
      "2019-03-22 12:22:51,508 : INFO : worker thread finished; awaiting finish of 3 more threads\n",
      "2019-03-22 12:22:51,508 : INFO : worker thread finished; awaiting finish of 2 more threads\n",
      "2019-03-22 12:22:51,509 : INFO : worker thread finished; awaiting finish of 1 more threads\n",
      "2019-03-22 12:22:51,509 : INFO : worker thread finished; awaiting finish of 0 more threads\n",
      "2019-03-22 12:22:51,510 : INFO : EPOCH - 3 : training on 4 raw words (1 effective words) took 0.0s, 600 effective words/s\n",
      "2019-03-22 12:22:51,511 : INFO : worker thread finished; awaiting finish of 3 more threads\n",
      "2019-03-22 12:22:51,512 : INFO : worker thread finished; awaiting finish of 2 more threads\n",
      "2019-03-22 12:22:51,512 : INFO : worker thread finished; awaiting finish of 1 more threads\n",
      "2019-03-22 12:22:51,513 : INFO : worker thread finished; awaiting finish of 0 more threads\n",
      "2019-03-22 12:22:51,513 : INFO : EPOCH - 4 : training on 4 raw words (1 effective words) took 0.0s, 496 effective words/s\n",
      "2019-03-22 12:22:51,516 : INFO : worker thread finished; awaiting finish of 3 more threads\n",
      "2019-03-22 12:22:51,517 : INFO : worker thread finished; awaiting finish of 2 more threads\n",
      "2019-03-22 12:22:51,517 : INFO : worker thread finished; awaiting finish of 1 more threads\n",
      "2019-03-22 12:22:51,518 : INFO : worker thread finished; awaiting finish of 0 more threads\n",
      "2019-03-22 12:22:51,518 : INFO : EPOCH - 5 : training on 4 raw words (0 effective words) took 0.0s, 0 effective words/s\n",
      "2019-03-22 12:22:51,518 : INFO : training on a 20 raw words (2 effective words) took 0.0s, 94 effective words/s\n",
      "2019-03-22 12:22:51,519 : WARNING : under 10 jobs per worker: consider setting a smaller `batch_words' for smoother alpha decay\n",
      "2019-03-22 12:22:51,519 : INFO : collecting all words and their counts\n",
      "2019-03-22 12:22:51,519 : INFO : PROGRESS: at sentence #0, processed 0 words, keeping 0 word types\n",
      "2019-03-22 12:22:51,520 : INFO : collected 3 word types from a corpus of 4 raw words and 2 sentences\n",
      "2019-03-22 12:22:51,520 : INFO : Loading a fresh vocabulary\n",
      "2019-03-22 12:22:51,520 : INFO : effective_min_count=1 retains 3 unique words (100% of original 3, drops 0)\n",
      "2019-03-22 12:22:51,521 : INFO : effective_min_count=1 leaves 4 word corpus (100% of original 4, drops 0)\n",
      "2019-03-22 12:22:51,521 : INFO : deleting the raw counts dictionary of 3 items\n",
      "2019-03-22 12:22:51,521 : INFO : sample=0.001 downsamples 3 most-common words\n",
      "2019-03-22 12:22:51,522 : INFO : downsampling leaves estimated 0 word corpus (5.7% of prior 4)\n",
      "2019-03-22 12:22:51,522 : INFO : estimated required memory for 3 words and 128 dimensions: 4572 bytes\n",
      "2019-03-22 12:22:51,522 : INFO : resetting layer weights\n",
      "2019-03-22 12:22:51,523 : INFO : training model with 4 workers on 3 vocabulary and 128 features, using sg=1 hs=0 sample=0.001 negative=5 window=3\n",
      "2019-03-22 12:22:51,525 : INFO : worker thread finished; awaiting finish of 3 more threads\n",
      "2019-03-22 12:22:51,526 : INFO : worker thread finished; awaiting finish of 2 more threads\n",
      "2019-03-22 12:22:51,526 : INFO : worker thread finished; awaiting finish of 1 more threads\n",
      "2019-03-22 12:22:51,526 : INFO : worker thread finished; awaiting finish of 0 more threads\n",
      "2019-03-22 12:22:51,527 : INFO : EPOCH - 1 : training on 4 raw words (0 effective words) took 0.0s, 0 effective words/s\n",
      "2019-03-22 12:22:51,529 : INFO : worker thread finished; awaiting finish of 3 more threads\n",
      "2019-03-22 12:22:51,529 : INFO : worker thread finished; awaiting finish of 2 more threads\n",
      "2019-03-22 12:22:51,530 : INFO : worker thread finished; awaiting finish of 1 more threads\n",
      "2019-03-22 12:22:51,531 : INFO : worker thread finished; awaiting finish of 0 more threads\n",
      "2019-03-22 12:22:51,531 : INFO : EPOCH - 2 : training on 4 raw words (0 effective words) took 0.0s, 0 effective words/s\n",
      "2019-03-22 12:22:51,533 : INFO : worker thread finished; awaiting finish of 3 more threads\n",
      "2019-03-22 12:22:51,534 : INFO : worker thread finished; awaiting finish of 2 more threads\n",
      "2019-03-22 12:22:51,534 : INFO : worker thread finished; awaiting finish of 1 more threads\n",
      "2019-03-22 12:22:51,534 : INFO : worker thread finished; awaiting finish of 0 more threads\n",
      "2019-03-22 12:22:51,535 : INFO : EPOCH - 3 : training on 4 raw words (1 effective words) took 0.0s, 639 effective words/s\n",
      "2019-03-22 12:22:51,536 : INFO : worker thread finished; awaiting finish of 3 more threads\n",
      "2019-03-22 12:22:51,537 : INFO : worker thread finished; awaiting finish of 2 more threads\n",
      "2019-03-22 12:22:51,537 : INFO : worker thread finished; awaiting finish of 1 more threads\n",
      "2019-03-22 12:22:51,537 : INFO : worker thread finished; awaiting finish of 0 more threads\n",
      "2019-03-22 12:22:51,538 : INFO : EPOCH - 4 : training on 4 raw words (1 effective words) took 0.0s, 665 effective words/s\n",
      "2019-03-22 12:22:51,540 : INFO : worker thread finished; awaiting finish of 3 more threads\n",
      "2019-03-22 12:22:51,540 : INFO : worker thread finished; awaiting finish of 2 more threads\n",
      "2019-03-22 12:22:51,541 : INFO : worker thread finished; awaiting finish of 1 more threads\n",
      "2019-03-22 12:22:51,541 : INFO : worker thread finished; awaiting finish of 0 more threads\n",
      "2019-03-22 12:22:51,541 : INFO : EPOCH - 5 : training on 4 raw words (0 effective words) took 0.0s, 0 effective words/s\n",
      "2019-03-22 12:22:51,542 : INFO : training on a 20 raw words (2 effective words) took 0.0s, 110 effective words/s\n",
      "2019-03-22 12:22:51,542 : WARNING : under 10 jobs per worker: consider setting a smaller `batch_words' for smoother alpha decay\n"
     ]
    }
   ],
   "source": [
    "\n",
    "logging.basicConfig(format='%(asctime)s : %(levelname)s : %(message)s', level=logging.INFO)\n",
    "sentences = [['I am a hero', 'sentence'], ['She is a teacher', 'sentence']] \n",
    "\n",
    "# train word2vec on the two sentences  \n",
    "\n",
    "# sg=0 表示COBW, sg=1 表示skip-gram\n",
    "model_sg0 = word2vec.Word2Vec(sentences, size=128, min_count=1, window=3, workers=4, sg=0)  \n",
    "model_sg1 = word2vec.Word2Vec(sentences, size=128, min_count=1, window=3, workers=4, sg=1) \n"
   ]
  },
  {
   "cell_type": "code",
   "execution_count": null,
   "metadata": {
    "collapsed": true
   },
   "outputs": [],
   "source": []
  }
 ],
 "metadata": {
  "kernelspec": {
   "display_name": "Python 3",
   "language": "python",
   "name": "python3"
  },
  "language_info": {
   "codemirror_mode": {
    "name": "ipython",
    "version": 3
   },
   "file_extension": ".py",
   "mimetype": "text/x-python",
   "name": "python",
   "nbconvert_exporter": "python",
   "pygments_lexer": "ipython3",
   "version": "3.6.2"
  }
 },
 "nbformat": 4,
 "nbformat_minor": 2
}
